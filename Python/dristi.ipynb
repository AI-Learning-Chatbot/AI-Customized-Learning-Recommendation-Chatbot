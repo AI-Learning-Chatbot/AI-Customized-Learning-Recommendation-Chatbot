{
 "cells": [
  {
   "cell_type": "code",
   "execution_count": 2,
   "id": "143483f9",
   "metadata": {},
   "outputs": [
    {
     "name": "stdout",
     "output_type": "stream",
     "text": [
      "Student Report:\n",
      "\n",
      "Mark (16 yrs) - Avg: 71.67 - Passed\n",
      "Emily (17 yrs) - Avg: 45.00 - Failed\n",
      "John (15 yrs) - Avg: 87.67 - Passed\n"
     ]
    }
   ],
   "source": [
    "class Student:\n",
    "    def __init__(self, name, age, marks):\n",
    "        self.name = name\n",
    "        self.age = age\n",
    "        self.marks = marks  \n",
    "\n",
    "    def average_mark(self):\n",
    "        return sum(self.marks) / len(self.marks)\n",
    "\n",
    "    def has_passed(self):\n",
    "        return self.average_mark() >= 50\n",
    "\n",
    "    def summary(self):\n",
    "        status = \"Passed\" if self.has_passed() else \"Failed\"\n",
    "        return f\"{self.name} ({self.age} yrs) - Avg: {self.average_mark():.2f} - {status}\"\n",
    "\n",
    "def process_students(student_list):\n",
    "    print(\"Student Report:\\n\")\n",
    "    for student in student_list:\n",
    "        print(student.summary())\n",
    "\n",
    "def main():\n",
    "    students = [\n",
    "        Student(\"Mark\", 16, [65, 70, 80]),\n",
    "        Student(\"Emily\", 17, [45, 50, 40]),\n",
    "        Student(\"John\", 15, [90, 85, 88])\n",
    "    ]\n",
    "\n",
    "    process_students(students)\n",
    "\n",
    "main()\n"
   ]
  }
 ],
 "metadata": {
  "kernelspec": {
   "display_name": "Python 3",
   "language": "python",
   "name": "python3"
  },
  "language_info": {
   "codemirror_mode": {
    "name": "ipython",
    "version": 3
   },
   "file_extension": ".py",
   "mimetype": "text/x-python",
   "name": "python",
   "nbconvert_exporter": "python",
   "pygments_lexer": "ipython3",
   "version": "3.11.0"
  }
 },
 "nbformat": 4,
 "nbformat_minor": 5
}

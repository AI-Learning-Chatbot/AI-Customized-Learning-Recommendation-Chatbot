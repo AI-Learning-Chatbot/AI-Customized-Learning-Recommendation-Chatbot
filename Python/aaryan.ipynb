{
 "cells": [
  {
   "cell_type": "markdown",
   "id": "4a88275e",
   "metadata": {},
   "source": [
    "# Python "
   ]
  },
  {
   "cell_type": "code",
   "execution_count": 9,
   "id": "80ded05d",
   "metadata": {},
   "outputs": [
    {
     "name": "stdout",
     "output_type": "stream",
     "text": [
      "10 3.14 Hello Python\n",
      "[1, 2, 3] (10, 20, 30) {'name': 'Aryan', 'age': 20} {1, 2, 3}\n"
     ]
    }
   ],
   "source": [
    "# Variables store information\n",
    "my_int = 10         # Integer\n",
    "my_float = 3.14     # Float\n",
    "my_string = \"Hello Python\"  # String\n",
    "my_list = [1, 2, 3]         # List\n",
    "my_tuple = (10, 20, 30)     # Tuple\n",
    "my_dict = {\"name\": \"Aryan\", \"age\": 20}  # Dictionary\n",
    "my_set = {1, 2, 3}          # Set\n",
    "\n",
    "print(my_int, my_float, my_string)\n",
    "print(my_list, my_tuple, my_dict, my_set)\n"
   ]
  },
  {
   "cell_type": "markdown",
   "id": "41fac1f3",
   "metadata": {},
   "source": [
    "## Input and Output"
   ]
  },
  {
   "cell_type": "code",
   "execution_count": 10,
   "id": "d34a778c",
   "metadata": {},
   "outputs": [
    {
     "name": "stdout",
     "output_type": "stream",
     "text": [
      "Hello aaryan, you are 21 years old.\n"
     ]
    }
   ],
   "source": [
    "name = input(\"Enter your name: \")\n",
    "age = int(input(\"Enter your age: \"))  # Convert input to integer\n",
    "print(f\"Hello {name}, you are {age} years old.\")\n"
   ]
  },
  {
   "cell_type": "markdown",
   "id": "44a89a52",
   "metadata": {},
   "source": [
    "## Conditional Statement, Loops & while loop"
   ]
  },
  {
   "cell_type": "code",
   "execution_count": 11,
   "id": "3d0db2ee",
   "metadata": {},
   "outputs": [
    {
     "name": "stdout",
     "output_type": "stream",
     "text": [
      "You are an adult.\n"
     ]
    }
   ],
   "source": [
    "age = int(input(\"Enter your age: \"))\n",
    "\n",
    "if age >= 18:\n",
    "    print(\"You are an adult.\")\n",
    "elif age >= 13:\n",
    "    print(\"You are a teenager.\")\n",
    "else:\n",
    "    print(\"You are a child.\")\n"
   ]
  },
  {
   "cell_type": "code",
   "execution_count": 12,
   "id": "fac004c5",
   "metadata": {},
   "outputs": [
    {
     "name": "stdout",
     "output_type": "stream",
     "text": [
      "For loop example:\n",
      "1\n",
      "2\n",
      "3\n",
      "4\n",
      "5\n"
     ]
    }
   ],
   "source": [
    "print(\"For loop example:\")\n",
    "for i in range(1, 6):  # 1 to 5\n",
    "    print(i)\n"
   ]
  },
  {
   "cell_type": "code",
   "execution_count": 13,
   "id": "840ac35b",
   "metadata": {},
   "outputs": [
    {
     "name": "stdout",
     "output_type": "stream",
     "text": [
      "While loop example:\n",
      "1\n",
      "2\n",
      "3\n",
      "4\n",
      "5\n"
     ]
    }
   ],
   "source": [
    "print(\"While loop example:\")\n",
    "count = 1\n",
    "while count <= 5:\n",
    "    print(count)\n",
    "    count += 1\n"
   ]
  },
  {
   "cell_type": "markdown",
   "id": "d2cee5f9",
   "metadata": {},
   "source": [
    "## Iterators"
   ]
  },
  {
   "cell_type": "code",
   "execution_count": 14,
   "id": "82a71c8e",
   "metadata": {},
   "outputs": [
    {
     "name": "stdout",
     "output_type": "stream",
     "text": [
      "Iterator example:\n",
      "10\n",
      "20\n",
      "30\n"
     ]
    }
   ],
   "source": [
    "my_list = [10, 20, 30]\n",
    "my_iter = iter(my_list)\n",
    "\n",
    "print(\"Iterator example:\")\n",
    "while True:\n",
    "    try:\n",
    "        item = next(my_iter)\n",
    "        print(item)\n",
    "    except StopIteration:\n",
    "        break\n"
   ]
  },
  {
   "cell_type": "markdown",
   "id": "83239e5f",
   "metadata": {},
   "source": [
    "## Functions"
   ]
  },
  {
   "cell_type": "code",
   "execution_count": 15,
   "id": "cd3e7af6",
   "metadata": {},
   "outputs": [
    {
     "name": "stdout",
     "output_type": "stream",
     "text": [
      "Hello! Welcome to Python.\n"
     ]
    }
   ],
   "source": [
    "def greet():\n",
    "    print(\"Hello! Welcome to Python.\")\n",
    "\n",
    "greet()\n"
   ]
  },
  {
   "cell_type": "code",
   "execution_count": 16,
   "id": "7679cdbd",
   "metadata": {},
   "outputs": [
    {
     "name": "stdout",
     "output_type": "stream",
     "text": [
      "Sum: 8\n"
     ]
    }
   ],
   "source": [
    "def add(a, b):\n",
    "    return a + b\n",
    "\n",
    "result = add(5, 3)\n",
    "print(\"Sum:\", result)\n"
   ]
  },
  {
   "cell_type": "code",
   "execution_count": 17,
   "id": "c8ac80b5",
   "metadata": {},
   "outputs": [
    {
     "name": "stdout",
     "output_type": "stream",
     "text": [
      "Factorial of 5 is 120\n"
     ]
    }
   ],
   "source": [
    "def factorial(n):\n",
    "    result = 1\n",
    "    for i in range(1, n+1):\n",
    "        result *= i\n",
    "    return result\n",
    "\n",
    "print(\"Factorial of 5 is\", factorial(5))\n"
   ]
  },
  {
   "cell_type": "markdown",
   "id": "70ec9985",
   "metadata": {},
   "source": [
    "## Lists and Dictionaries"
   ]
  },
  {
   "cell_type": "code",
   "execution_count": 18,
   "id": "e74f640b",
   "metadata": {},
   "outputs": [
    {
     "name": "stdout",
     "output_type": "stream",
     "text": [
      "Fruits list:\n",
      "Apple\n",
      "Banana\n",
      "Cherry\n",
      "Fruit 1: Apple\n",
      "Fruit 2: Banana\n",
      "Fruit 3: Cherry\n"
     ]
    }
   ],
   "source": [
    "fruits = [\"Apple\", \"Banana\", \"Cherry\"]\n",
    "\n",
    "# Using for loop\n",
    "print(\"Fruits list:\")\n",
    "for fruit in fruits:\n",
    "    print(fruit)\n",
    "\n",
    "# Using index\n",
    "for i in range(len(fruits)):\n",
    "    print(f\"Fruit {i+1}: {fruits[i]}\")\n"
   ]
  },
  {
   "cell_type": "code",
   "execution_count": 19,
   "id": "30ce086d",
   "metadata": {},
   "outputs": [
    {
     "name": "stdout",
     "output_type": "stream",
     "text": [
      "Aryan 20\n",
      "name : Aryan\n",
      "age : 20\n",
      "city : Kathmandu\n"
     ]
    }
   ],
   "source": [
    "person = {\"name\": \"Aryan\", \"age\": 20, \"city\": \"Kathmandu\"}\n",
    "\n",
    "# Accessing values\n",
    "print(person[\"name\"], person[\"age\"])\n",
    "\n",
    "# Iterating through keys and values\n",
    "for key, value in person.items():\n",
    "    print(key, \":\", value)\n"
   ]
  },
  {
   "cell_type": "code",
   "execution_count": null,
   "id": "0f5c4648",
   "metadata": {},
   "outputs": [],
   "source": []
  }
 ],
 "metadata": {
  "kernelspec": {
   "display_name": "Python 3",
   "language": "python",
   "name": "python3"
  },
  "language_info": {
   "codemirror_mode": {
    "name": "ipython",
    "version": 3
   },
   "file_extension": ".py",
   "mimetype": "text/x-python",
   "name": "python",
   "nbconvert_exporter": "python",
   "pygments_lexer": "ipython3",
   "version": "3.10.11"
  }
 },
 "nbformat": 4,
 "nbformat_minor": 5
}

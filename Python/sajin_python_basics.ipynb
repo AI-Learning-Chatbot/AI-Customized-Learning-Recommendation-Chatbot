{
  "nbformat": 4,
  "nbformat_minor": 0,
  "metadata": {
    "colab": {
      "provenance": []
    },
    "kernelspec": {
      "name": "python3",
      "display_name": "Python 3"
    },
    "language_info": {
      "name": "python"
    }
  },
  "cells": [
    {
      "cell_type": "code",
      "execution_count": 2,
      "metadata": {
        "colab": {
          "base_uri": "https://localhost:8080/"
        },
        "id": "cFEAczW9hP_4",
        "outputId": "9df49359-7404-4d2d-ae31-8ba8c9cdfad1"
      },
      "outputs": [
        {
          "output_type": "stream",
          "name": "stdout",
          "text": [
            "Hehe world\n"
          ]
        }
      ],
      "source": [
        "print(\"Hehe world\")"
      ]
    },
    {
      "cell_type": "code",
      "source": [
        "print(\"*\" *10)"
      ],
      "metadata": {
        "colab": {
          "base_uri": "https://localhost:8080/"
        },
        "id": "WXoevEG_jqPp",
        "outputId": "455fbe62-a097-4236-a8c7-676368e21417"
      },
      "execution_count": null,
      "outputs": [
        {
          "output_type": "stream",
          "name": "stdout",
          "text": [
            "**********\n"
          ]
        }
      ]
    },
    {
      "cell_type": "code",
      "source": [
        "print (\"Sending message\")\n",
        "print (\"Sending message\")"
      ],
      "metadata": {
        "colab": {
          "base_uri": "https://localhost:8080/"
        },
        "id": "8mQ76ba0kExK",
        "outputId": "d0ee0248-e0ab-4ff3-9fc6-18172cd2c07e"
      },
      "execution_count": null,
      "outputs": [
        {
          "output_type": "stream",
          "name": "stdout",
          "text": [
            "Sending message\n",
            "Sending message\n"
          ]
        }
      ]
    },
    {
      "cell_type": "code",
      "source": [
        "int = 7\n",
        "float = 2.15\n",
        "list = ['Ram',20, 'Kathmandu']\n",
        "dictionary = {'Name': 'Ram' , 'Age': 20}\n",
        "\n",
        "print (int)\n",
        "print (float)\n",
        "print (list)\n",
        "print (dictionary)"
      ],
      "metadata": {
        "colab": {
          "base_uri": "https://localhost:8080/"
        },
        "id": "AIW70-Po0S7B",
        "outputId": "a10d9a53-7e16-4ee1-a3b7-ae0f3f2569f9"
      },
      "execution_count": 9,
      "outputs": [
        {
          "output_type": "stream",
          "name": "stdout",
          "text": [
            "7\n",
            "2.15\n",
            "['Ram', 20, 'Kathmandu']\n",
            "{'Name': 'Ram', 'Age': 20}\n"
          ]
        }
      ]
    },
    {
      "cell_type": "code",
      "source": [
        "name = \"Sajin\"\n",
        "print(f\"Hello, {name}!\")"
      ],
      "metadata": {
        "colab": {
          "base_uri": "https://localhost:8080/"
        },
        "id": "nHnr93P01vdY",
        "outputId": "5c1ed1f6-5e3b-49fa-e285-0af852c2561c"
      },
      "execution_count": 5,
      "outputs": [
        {
          "output_type": "stream",
          "name": "stdout",
          "text": [
            "Hello, Sajin!\n"
          ]
        }
      ]
    },
    {
      "cell_type": "code",
      "source": [
        "for number in range (1,4):\n",
        "  print(\"Attempt\",number, number*\".\")"
      ],
      "metadata": {
        "colab": {
          "base_uri": "https://localhost:8080/"
        },
        "id": "oQ8vIeuck3Jr",
        "outputId": "dd850b9f-eee4-41b6-f77f-6b1c0d4ef259"
      },
      "execution_count": null,
      "outputs": [
        {
          "output_type": "stream",
          "name": "stdout",
          "text": [
            "Attempt 1 .\n",
            "Attempt 2 ..\n",
            "Attempt 3 ...\n"
          ]
        }
      ]
    },
    {
      "cell_type": "code",
      "source": [
        "successful = False\n",
        "for number in range (1,4):\n",
        "  print(\"Attempt\")\n",
        "  if successful:\n",
        "    print(\"Successful\")\n",
        "    break\n",
        "else:\n",
        "    print(\"Attempted 3 times and failed\")"
      ],
      "metadata": {
        "colab": {
          "base_uri": "https://localhost:8080/"
        },
        "id": "brWrleKomDrv",
        "outputId": "bc9c46e8-82d6-450b-bf46-459e7384bf60"
      },
      "execution_count": null,
      "outputs": [
        {
          "output_type": "stream",
          "name": "stdout",
          "text": [
            "Attempt\n",
            "Attempt\n",
            "Attempt\n",
            "Attempted 3 times and failed\n"
          ]
        }
      ]
    },
    {
      "cell_type": "code",
      "source": [
        "command =\"\"\n",
        "while command.lower() != \"quit\":\n",
        "  command = input(\">\")\n",
        "  print(\"ECHO\", command)"
      ],
      "metadata": {
        "colab": {
          "base_uri": "https://localhost:8080/"
        },
        "id": "_I0xWFe8nUiJ",
        "outputId": "a406545d-49b1-4f78-fc60-5a2ef0e98963"
      },
      "execution_count": 4,
      "outputs": [
        {
          "output_type": "stream",
          "name": "stdout",
          "text": [
            ">1\n",
            "ECHO 1\n",
            ">r\n",
            "ECHO r\n",
            ">quit\n",
            "ECHO quit\n"
          ]
        }
      ]
    },
    {
      "cell_type": "code",
      "source": [
        "count = 0\n",
        "for number in range(1, 10):\n",
        "  if number % 2 == 0:\n",
        "    count += 1\n",
        "    print (number)\n",
        "print(f\"We have {count} even occurances\")"
      ],
      "metadata": {
        "colab": {
          "base_uri": "https://localhost:8080/"
        },
        "id": "e0CURCw_xxmO",
        "outputId": "2e8715f4-b889-4bed-c855-cb529caf2b24"
      },
      "execution_count": null,
      "outputs": [
        {
          "output_type": "stream",
          "name": "stdout",
          "text": [
            "2\n",
            "4\n",
            "6\n",
            "8\n",
            "We have 4 even\n"
          ]
        }
      ]
    },
    {
      "cell_type": "code",
      "source": [
        "def greeting(name):\n",
        "  print(f\"Hello, {name}!\")\n",
        "\n",
        "\n",
        "greeting(\"Sajin\")"
      ],
      "metadata": {
        "colab": {
          "base_uri": "https://localhost:8080/"
        },
        "id": "eTBrPMvlyvje",
        "outputId": "7bd5d276-5753-4c16-a0cd-60a75ce31a0f"
      },
      "execution_count": null,
      "outputs": [
        {
          "output_type": "stream",
          "name": "stdout",
          "text": [
            "Hello, Sajin!\n"
          ]
        }
      ]
    },
    {
      "cell_type": "code",
      "source": [
        "class Dog:\n",
        "  def __init__(self, name):\n",
        "    self.name = name\n",
        "  def bark(self):\n",
        "    print(f\"{self.name} bhukxa!\")\n",
        "\n",
        "\n",
        "my_dog = Dog(\"Kale\")\n",
        "my_dog.bark()"
      ],
      "metadata": {
        "colab": {
          "base_uri": "https://localhost:8080/"
        },
        "id": "O5Zytq8szfG3",
        "outputId": "8130cc8d-aeea-437b-ca16-622cc4abece1"
      },
      "execution_count": 1,
      "outputs": [
        {
          "output_type": "stream",
          "name": "stdout",
          "text": [
            "Kale bhukxa!\n"
          ]
        }
      ]
    }
  ]
}